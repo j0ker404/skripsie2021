{
 "cells": [
  {
   "cell_type": "markdown",
   "metadata": {},
   "source": [
    "# Evaluate trained slime agents\n"
   ]
  },
  {
   "cell_type": "code",
   "execution_count": 4,
   "metadata": {},
   "outputs": [],
   "source": [
    "import sys\n",
    "import os\n",
    "PACKAGE_PARENT = '../'\n",
    "sys.path.append(PACKAGE_PARENT)\n",
    "\n",
    "import numpy as np\n",
    "import pandas as pd\n",
    "import matplotlib.pyplot as plt\n",
    "\n",
    "import gym\n",
    "import slimevolleygym\n",
    "import pickle\n",
    "\n",
    "\n"
   ]
  },
  {
   "cell_type": "code",
   "execution_count": 15,
   "metadata": {},
   "outputs": [],
   "source": [
    "eval_path = '../evaluate_data/match_data.pkl'\n",
    "with open(eval_path, 'rb') as f:\n",
    "    match_data = pickle.load(f)\n",
    "\n",
    "# print(match_data.keys())\n",
    "# new dict that stores, \"match\":{avg_rew, std}\n",
    "match_stats = {}\n",
    "\n",
    "for match_name in match_data.keys():\n",
    "    rewards, _ = match_data[match_name]\n",
    "    rewards = np.array(rewards)\n",
    "    mean = np.mean(rewards)\n",
    "    std = np.std(rewards)\n",
    "    match_stats[match_name] = [mean, std]\n",
    "\n",
    "\n",
    "\n"
   ]
  },
  {
   "cell_type": "code",
   "execution_count": 16,
   "metadata": {},
   "outputs": [
    {
     "name": "stdout",
     "output_type": "stream",
     "text": [
      "----------\n",
      "PPO_Agent_vs_PPO_Agent\n",
      "-0.034 +- 2.226846200347029\n",
      "----------\n",
      "----------\n",
      "PPO_Agent_vs_Self-play_PPO_Agent\n",
      "2.385 +- 2.159345965796125\n",
      "----------\n",
      "----------\n",
      "PPO_Agent_vs_Bootstrapped_Self-play_PPO_Agent\n",
      "0.417 +- 2.585558160243161\n",
      "----------\n",
      "----------\n",
      "PPO_Agent_vs_BC_Agent\n",
      "0.339 +- 1.7378374492454696\n",
      "----------\n",
      "----------\n",
      "Self-play_PPO_Agent_vs_PPO_Agent\n",
      "-2.378 +- 2.202978892318308\n",
      "----------\n",
      "----------\n",
      "Self-play_PPO_Agent_vs_Self-play_PPO_Agent\n",
      "-0.05 +- 2.7805574980568193\n",
      "----------\n",
      "----------\n",
      "Self-play_PPO_Agent_vs_Bootstrapped_Self-play_PPO_Agent\n",
      "-2.2 +- 2.1573131437044553\n",
      "----------\n",
      "----------\n",
      "Self-play_PPO_Agent_vs_BC_Agent\n",
      "-4.431 +- 0.7753960278464161\n",
      "----------\n",
      "----------\n",
      "Bootstrapped_Self-play_PPO_Agent_vs_PPO_Agent\n",
      "-0.492 +- 2.607285178111516\n",
      "----------\n",
      "----------\n",
      "Bootstrapped_Self-play_PPO_Agent_vs_Self-play_PPO_Agent\n",
      "2.081 +- 2.2082660618684513\n",
      "----------\n",
      "----------\n",
      "Bootstrapped_Self-play_PPO_Agent_vs_Bootstrapped_Self-play_PPO_Agent\n",
      "-0.11 +- 2.723215011709505\n",
      "----------\n",
      "----------\n",
      "Bootstrapped_Self-play_PPO_Agent_vs_BC_Agent\n",
      "-1.807 +- 2.0658535766118566\n",
      "----------\n",
      "----------\n",
      "BC_Agent_vs_PPO_Agent\n",
      "-0.459 +- 1.73041006700724\n",
      "----------\n",
      "----------\n",
      "BC_Agent_vs_Self-play_PPO_Agent\n",
      "4.424 +- 0.8307972075061398\n",
      "----------\n",
      "----------\n",
      "BC_Agent_vs_Bootstrapped_Self-play_PPO_Agent\n",
      "1.845 +- 2.1435892796895586\n",
      "----------\n",
      "----------\n",
      "BC_Agent_vs_BC_Agent\n",
      "-0.038 +- 1.4465669704510744\n",
      "----------\n"
     ]
    }
   ],
   "source": [
    "for match_name in match_stats.keys():\n",
    "    print('-'*10)\n",
    "    print(match_name)\n",
    "    mean, std = match_stats[match_name]\n",
    "    print('{} +- {}'.format(mean, std))\n",
    "    print('-'*10)"
   ]
  },
  {
   "cell_type": "code",
   "execution_count": 19,
   "metadata": {},
   "outputs": [],
   "source": [
    "# view baseline data\n",
    "\n",
    "eval_path = '../evaluate_data/baseline_match_data.pkl'\n",
    "with open(eval_path, 'rb') as f:\n",
    "    match_data_baseline = pickle.load(f)\n",
    "\n",
    "# print(match_data.keys())\n",
    "# new dict that stores, \"match\":{avg_rew, std}\n",
    "baseline_match_stats = {}\n",
    "\n",
    "for baseline_match_name in match_data_baseline.keys():\n",
    "    rewards, _ = match_data_baseline[baseline_match_name]\n",
    "    rewards = np.array(rewards)\n",
    "    mean = np.mean(rewards)\n",
    "    std = np.std(rewards)\n",
    "    baseline_match_stats[baseline_match_name] = [mean, std]"
   ]
  },
  {
   "cell_type": "code",
   "execution_count": 21,
   "metadata": {},
   "outputs": [
    {
     "name": "stdout",
     "output_type": "stream",
     "text": [
      "----------\n",
      "PPO_Agent_vs_Baseline\n",
      "-0.627 +- 1.3228268972167145\n",
      "----------\n",
      "----------\n",
      "Self-play_PPO_Agent_vs_Baseline\n",
      "-4.704 +- 0.5480729878401235\n",
      "----------\n",
      "----------\n",
      "Bootstrapped_Self-play_PPO_Agent_vs_Baseline\n",
      "-2.975 +- 1.6444984037693682\n",
      "----------\n",
      "----------\n",
      "BC_Agent_vs_Baseline\n",
      "-0.751 +- 1.4829022219957726\n",
      "----------\n",
      "----------\n",
      "Baseline_vs_PPO_Agent\n",
      "0.625 +- 1.3499537029098443\n",
      "----------\n",
      "----------\n",
      "Baseline_vs_Self-play_PPO_Agent\n",
      "4.722 +- 0.5447164399942415\n",
      "----------\n",
      "----------\n",
      "Baseline_vs_Bootstrapped_Self-play_PPO_Agent\n",
      "2.999 +- 1.641035953292919\n",
      "----------\n",
      "----------\n",
      "Baseline_vs_BC_Agent\n",
      "0.759 +- 1.487588316705936\n",
      "----------\n"
     ]
    }
   ],
   "source": [
    "for match_name in baseline_match_stats.keys():\n",
    "    print('-'*10)\n",
    "    print(match_name)\n",
    "    mean, std = baseline_match_stats[match_name]\n",
    "    print('{} +- {}'.format(mean, std))\n",
    "    print('-'*10)"
   ]
  },
  {
   "cell_type": "code",
   "execution_count": 28,
   "metadata": {},
   "outputs": [
    {
     "name": "stderr",
     "output_type": "stream",
     "text": [
      "100%|██████████| 1000/1000 [02:59<00:00,  5.57it/s]"
     ]
    },
    {
     "name": "stdout",
     "output_type": "stream",
     "text": [
      "Baseline_vs_Baseline\n"
     ]
    },
    {
     "name": "stderr",
     "output_type": "stream",
     "text": [
      "\n"
     ]
    }
   ],
   "source": [
    "from alphaslime.evaluate.eval_agents import EvaluateGameMA\n",
    "import trained_agents.agents as TRAINED_AGENTS\n",
    "\n",
    "# lets see the performance of baseline vs baseline\n",
    "agent_right = TRAINED_AGENTS.load_baseline()\n",
    "agent_left = TRAINED_AGENTS.load_baseline()\n",
    "agent_right_name = 'Baseline'\n",
    "agent_left_name = 'Baseline'\n",
    "\n",
    "env_id = \"SlimeVolley-v0\"\n",
    "env = gym.make(env_id)\n",
    "base_dir_path = './'\n",
    "RENDER = False\n",
    "eps = 1000\n",
    "running_avg_len = 100\n",
    "\n",
    "gym_evaluator = EvaluateGameMA(agent_right, agent_left, env, base_dir_path, render=RENDER, time_delay=0)\n",
    "\n",
    "# evaulate agent\n",
    "rewards, avg_rewards_array = gym_evaluator.evaluate(eps, is_progress_bar=True, running_avg_len=running_avg_len)\n",
    "\n",
    "data_name = agent_right_name + '_vs_' + agent_left_name\n",
    "match_data[data_name] = [rewards, avg_rewards_array]\n",
    "print(data_name)\n"
   ]
  },
  {
   "cell_type": "code",
   "execution_count": 34,
   "metadata": {},
   "outputs": [],
   "source": [
    "match_data[data_name] = [rewards, avg_rewards_array]\n",
    "\n",
    "# print(match_data[data_name])"
   ]
  },
  {
   "cell_type": "code",
   "execution_count": 35,
   "metadata": {},
   "outputs": [
    {
     "name": "stdout",
     "output_type": "stream",
     "text": [
      "Baseline_vs_Baseline\n",
      "0.019 +- 1.2315189807713076\n"
     ]
    }
   ],
   "source": [
    "mean = np.mean(rewards)\n",
    "std = np.std(rewards)\n",
    "baseline_match_stats[data_name] = [mean, std]\n",
    "print(data_name)\n",
    "mean, std = baseline_match_stats[data_name]\n",
    "print('{} +- {}'.format(mean, std))"
   ]
  }
 ],
 "metadata": {
  "interpreter": {
   "hash": "35985fa570b046aa04235cd8243fe0dea46807f74224419e7c68de2515ef2690"
  },
  "kernelspec": {
   "display_name": "Python 3.8.10 64-bit ('venv': venv)",
   "name": "python3"
  },
  "language_info": {
   "codemirror_mode": {
    "name": "ipython",
    "version": 3
   },
   "file_extension": ".py",
   "mimetype": "text/x-python",
   "name": "python",
   "nbconvert_exporter": "python",
   "pygments_lexer": "ipython3",
   "version": "3.8.10"
  },
  "orig_nbformat": 4
 },
 "nbformat": 4,
 "nbformat_minor": 2
}
