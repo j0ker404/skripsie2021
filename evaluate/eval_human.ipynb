{
 "cells": [
  {
   "cell_type": "markdown",
   "metadata": {},
   "source": [
    "# Trained agents vs Human"
   ]
  },
  {
   "cell_type": "code",
   "execution_count": 1,
   "metadata": {},
   "outputs": [],
   "source": [
    "# adpated from\n",
    "# https://github.com/hardmaru/slimevolleygym/blob/master/test_state.py"
   ]
  },
  {
   "cell_type": "code",
   "execution_count": 1,
   "metadata": {},
   "outputs": [],
   "source": [
    "import sys\n",
    "import os\n",
    "PACKAGE_PARENT = '../'\n",
    "sys.path.append(PACKAGE_PARENT)\n",
    "\n",
    "\n",
    "import numpy as np\n",
    "import pandas as pd\n",
    "import matplotlib.pyplot as plt\n",
    "\n",
    "import gym\n",
    "import slimevolleygym\n",
    "import pickle\n",
    "\n",
    "import math\n",
    "\n",
    "\n",
    "from alphaslime.evaluate.eval_agents import EvaluateGameSA\n",
    "from alphaslime.evaluate.eval_agents import EvaluateGameMA\n",
    "\n",
    "import trained_agents.agents as TRAINED_AGENTS\n",
    "\n",
    "np.set_printoptions(threshold=20, precision=3, suppress=True, linewidth=200)\n",
    "RENDER_MODE = True\n"
   ]
  },
  {
   "cell_type": "code",
   "execution_count": 2,
   "metadata": {},
   "outputs": [
    {
     "name": "stdout",
     "output_type": "stream",
     "text": [
      "loading: ppo_agent\n",
      "Actor Device used: cpu\n",
      "Critic Device used: cpu\n",
      "... loading models ...\n",
      "----------\n",
      "loading: sp_ppo_agent\n",
      "Actor Device used: cpu\n",
      "Critic Device used: cpu\n",
      "... loading models ...\n",
      "----------\n",
      "loading: boots_ppo_agent\n",
      "Actor Device used: cpu\n",
      "Critic Device used: cpu\n",
      "... loading models ...\n",
      "----------\n",
      "loading: bc_agent\n",
      "BCPolicyNet Device used: cpu\n",
      "... loading model ...\n",
      "----------\n"
     ]
    }
   ],
   "source": [
    "agents = TRAINED_AGENTS.agents_dict()"
   ]
  },
  {
   "cell_type": "code",
   "execution_count": 4,
   "metadata": {},
   "outputs": [
    {
     "name": "stderr",
     "output_type": "stream",
     "text": [
      "100%|██████████| 1/1 [00:14<00:00, 14.54s/it]"
     ]
    },
    {
     "name": "stdout",
     "output_type": "stream",
     "text": [
      "[-4]\n"
     ]
    },
    {
     "name": "stderr",
     "output_type": "stream",
     "text": [
      "\n"
     ]
    }
   ],
   "source": [
    "env_id = \"SlimeVolley-v0\"\n",
    "env = gym.make(env_id)\n",
    "agent_right = agents['PPO_Agent']\n",
    "agent_left = agents['PPO_Agent']\n",
    "\n",
    "\n",
    "eps = 1\n",
    "base_dir_path = \"./\"\n",
    "RENDER = True\n",
    "gym_evaluator = EvaluateGameMA(agent_right, agent_left, env, base_dir_path, render=RENDER, time_delay=0.02)\n",
    "running_avg_len = 100\n",
    "# running_avg_len = 2\n",
    "\n",
    "\n",
    "# evaulate agent\n",
    "rewards, avg_rewards_array = gym_evaluator.evaluate(eps, is_progress_bar=True, running_avg_len=running_avg_len)\n",
    "print(rewards)"
   ]
  },
  {
   "cell_type": "code",
   "execution_count": 6,
   "metadata": {},
   "outputs": [
    {
     "name": "stderr",
     "output_type": "stream",
     "text": [
      "100%|██████████| 1/1 [00:15<00:00, 15.82s/it]"
     ]
    },
    {
     "name": "stdout",
     "output_type": "stream",
     "text": [
      "[-5]\n"
     ]
    },
    {
     "name": "stderr",
     "output_type": "stream",
     "text": [
      "\n"
     ]
    }
   ],
   "source": [
    "env_id = \"SlimeVolley-v0\"\n",
    "env = gym.make(env_id)\n",
    "agent = agents['PPO_Agent']\n",
    "\n",
    "\n",
    "\n",
    "eps = 1\n",
    "base_dir_path = \"./\"\n",
    "RENDER = True\n",
    "gym_evaluator = EvaluateGameSA(agent, env, base_dir_path, render=RENDER, time_delay=0.02)\n",
    "running_avg_len = 100\n",
    "# running_avg_len = 2\n",
    "\n",
    "\n",
    "# evaulate agent\n",
    "rewards, avg_rewards_array = gym_evaluator.evaluate(eps, is_progress_bar=True, running_avg_len=running_avg_len)\n",
    "print(rewards)"
   ]
  }
 ],
 "metadata": {
  "interpreter": {
   "hash": "35985fa570b046aa04235cd8243fe0dea46807f74224419e7c68de2515ef2690"
  },
  "kernelspec": {
   "display_name": "Python 3.8.10 64-bit ('venv': venv)",
   "name": "python3"
  },
  "language_info": {
   "codemirror_mode": {
    "name": "ipython",
    "version": 3
   },
   "file_extension": ".py",
   "mimetype": "text/x-python",
   "name": "python",
   "nbconvert_exporter": "python",
   "pygments_lexer": "ipython3",
   "version": "3.8.10"
  },
  "orig_nbformat": 4
 },
 "nbformat": 4,
 "nbformat_minor": 2
}
