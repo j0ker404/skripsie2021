{
 "cells": [
  {
   "cell_type": "code",
   "execution_count": 2,
   "source": [
    "import sys\n",
    "import os\n",
    "\n",
    "PACKAGE_PARENT = '../../../'\n",
    "sys.path.append(PACKAGE_PARENT)\n",
    "\n",
    "from alphaslime.agents.RL.policygrad.torch.ppo import PPOAgent\n",
    "from alphaslime.trainer.trainerSA import TrainerSA as Trainer\n",
    "import pposp_configs as PPOCONFIGS\n",
    "\n",
    "import numpy as np\n",
    "import pandas as pd\n",
    "import matplotlib.pyplot as plt\n",
    "from alphaslime.trainer.selfplay.ppoChamps import PPOChampions\n"
   ],
   "outputs": [],
   "metadata": {}
  },
  {
   "cell_type": "code",
   "execution_count": 3,
   "source": [
    "champ_dir = './PPO_data/champ'\n",
    "champions = PPOChampions(champ_dir)"
   ],
   "outputs": [],
   "metadata": {}
  },
  {
   "cell_type": "code",
   "execution_count": 4,
   "source": [
    "champions.champ_counter = 4\n",
    "for _ in range(10):\n",
    "    print(champions.sample())"
   ],
   "outputs": [
    {
     "output_type": "stream",
     "name": "stdout",
     "text": [
      "['./PPO_data/champ/champ_1_actor.pt', './PPO_data/champ/champ_1_critic.pt']\n",
      "['./PPO_data/champ/champ_0_actor.pt', './PPO_data/champ/champ_0_critic.pt']\n",
      "['./PPO_data/champ/champ_3_actor.pt', './PPO_data/champ/champ_3_critic.pt']\n",
      "['./PPO_data/champ/champ_0_actor.pt', './PPO_data/champ/champ_0_critic.pt']\n",
      "['./PPO_data/champ/champ_2_actor.pt', './PPO_data/champ/champ_2_critic.pt']\n",
      "['./PPO_data/champ/champ_3_actor.pt', './PPO_data/champ/champ_3_critic.pt']\n",
      "['./PPO_data/champ/champ_0_actor.pt', './PPO_data/champ/champ_0_critic.pt']\n",
      "['./PPO_data/champ/champ_3_actor.pt', './PPO_data/champ/champ_3_critic.pt']\n",
      "['./PPO_data/champ/champ_1_actor.pt', './PPO_data/champ/champ_1_critic.pt']\n",
      "['./PPO_data/champ/champ_3_actor.pt', './PPO_data/champ/champ_3_critic.pt']\n"
     ]
    }
   ],
   "metadata": {}
  }
 ],
 "metadata": {
  "orig_nbformat": 4,
  "language_info": {
   "name": "python",
   "version": "3.8.10",
   "mimetype": "text/x-python",
   "codemirror_mode": {
    "name": "ipython",
    "version": 3
   },
   "pygments_lexer": "ipython3",
   "nbconvert_exporter": "python",
   "file_extension": ".py"
  },
  "kernelspec": {
   "name": "python3",
   "display_name": "Python 3.8.10 64-bit ('venv': venv)"
  },
  "interpreter": {
   "hash": "f41a9e18d32d699c7ebd9346171aa8606b8eaf6d2e7d29caa03f22c5e982b824"
  }
 },
 "nbformat": 4,
 "nbformat_minor": 2
}