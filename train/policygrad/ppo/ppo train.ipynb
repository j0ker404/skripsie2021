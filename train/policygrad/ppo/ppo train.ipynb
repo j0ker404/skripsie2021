{
 "cells": [
  {
   "cell_type": "code",
   "execution_count": 25,
   "source": [
    "import sys\n",
    "import os\n",
    "\n",
    "PACKAGE_PARENT = '../../../'\n",
    "sys.path.append(PACKAGE_PARENT)\n",
    "\n",
    "from alphaslime.agents.RL.policygrad.torch.ppo import PPOAgent\n",
    "import ppo_training_configs as PPOCONFIGS\n",
    "\n",
    "\n",
    "from pandas import read_csv\n",
    "import numpy as np\n",
    "import pandas as pd\n",
    "import matplotlib.pyplot as plt"
   ],
   "outputs": [],
   "metadata": {}
  },
  {
   "cell_type": "code",
   "execution_count": 26,
   "source": [
    "import gym\n",
    "import slimevolleygym\n",
    "\n",
    "env_id = \"SlimeVolley-v0\"\n",
    "env = gym.make(env_id)\n"
   ],
   "outputs": [],
   "metadata": {}
  },
  {
   "cell_type": "code",
   "execution_count": null,
   "source": [
    "# create directory if not present\n",
    "# create required directories if not present\n",
    "PPOCONFIGS.create_dirs()"
   ],
   "outputs": [],
   "metadata": {}
  },
  {
   "cell_type": "code",
   "execution_count": null,
   "source": [
    "\n",
    "\n",
    "# load configurations\n",
    "CONST = PPOCONFIGS.CONST\n",
    "agent_config = PPOCONFIGS.agent_config\n",
    "env = PPOCONFIGS.env\n",
    "agent_training_configs = PPOCONFIGS.agent_training_configs"
   ],
   "outputs": [],
   "metadata": {}
  },
  {
   "cell_type": "code",
   "execution_count": null,
   "source": [
    "agent = PPOAgent(CONSTANTS=CONST, config=agent_config)\n",
    "# train agent\n",
    "agent.train(agent_training_configs)\n",
    "\n",
    "training_data = agent.get_training_data()\n",
    "\n",
    "score_history = training_data['rewards']"
   ],
   "outputs": [],
   "metadata": {}
  },
  {
   "cell_type": "code",
   "execution_count": null,
   "source": [
    "import pickle\n",
    "# load training data\n",
    "temp = 'PPO_data/gamma_0.99_alpha_0.0003_reward_483.0_data.pkl'\n",
    "temp = filenames[1]\n",
    "training_data_path = temp\n",
    "print(training_data_path)\n",
    "with open(training_data_path, 'rb') as f:\n",
    "    training_data = pickle.load(f)"
   ],
   "outputs": [],
   "metadata": {}
  },
  {
   "cell_type": "code",
   "execution_count": null,
   "source": [
    "import alphaslime.utils.ploty as ploty\n",
    "figure_file = PPOCONFIGS.base_plot_path + 'avg_rew_cartpolev1_ppo.png'\n",
    "rewards = training_data['rewards']\n",
    "title = 'PPO Training Rewards and Average Reward on Cartpole'\n",
    "x = [i for i in range(len(rewards))]\n",
    "rn_avg_len = PPOCONFIGS.running_avg_len\n",
    "ploty.plot_learning_curve_plus_score(x,rewards, figure_file, running_avg_len=rn_avg_len, title=title)"
   ],
   "outputs": [],
   "metadata": {}
  }
 ],
 "metadata": {
  "orig_nbformat": 4,
  "language_info": {
   "name": "python",
   "version": "3.8.10",
   "mimetype": "text/x-python",
   "codemirror_mode": {
    "name": "ipython",
    "version": 3
   },
   "pygments_lexer": "ipython3",
   "nbconvert_exporter": "python",
   "file_extension": ".py"
  },
  "kernelspec": {
   "name": "python3",
   "display_name": "Python 3.8.10 64-bit ('venv': venv)"
  },
  "interpreter": {
   "hash": "f41a9e18d32d699c7ebd9346171aa8606b8eaf6d2e7d29caa03f22c5e982b824"
  }
 },
 "nbformat": 4,
 "nbformat_minor": 2
}