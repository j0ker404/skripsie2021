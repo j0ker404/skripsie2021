{
 "cells": [
  {
   "cell_type": "code",
   "execution_count": 1,
   "source": [
    "import sys\n",
    "\n",
    "\n",
    "PACKAGE_PARENT = '../../'\n",
    "sys.path.append(PACKAGE_PARENT)\n",
    "\n",
    "from alphaslime.evaluate.eval_agents import EvaluateGameSA\n",
    "from alphaslime.agents.other.semiGradSarsa import SemiGradSarsa\n",
    "from alphaslime.approx.linearq import LinearQApprox\n",
    "\n",
    "from pandas import read_csv\n",
    "import numpy as np\n",
    "import pandas as pd\n",
    "import matplotlib.pyplot as plt\n",
    "\n",
    "import gym\n",
    "import csv\n",
    "\n",
    "import time"
   ],
   "outputs": [],
   "metadata": {}
  },
  {
   "cell_type": "code",
   "execution_count": 2,
   "source": [
    "# config intial properties\n",
    "\n",
    "env_id = 'CartPole-v0'\n",
    "env = gym.make(env_id)\n",
    "# seed the random numbers and the gym environment\n",
    "# seed = 42\n",
    "seed = int(time.time()) #1630937434\n",
    "np.random.seed(seed)    \n",
    "env.seed(seed)\n",
    "\n",
    "# agent properties\n",
    "alpha = 0.1 # step size\n",
    "epsilon = 1\n",
    "gamma = 0.95\n",
    "training_episodes = 1000\n",
    "observation_dimension=4\n",
    "action_table = [0, 1]\n",
    "\n",
    "\n",
    "# q function approximator\n",
    "q_hat = LinearQApprox()\n",
    "\n",
    "# set config file for agent\n",
    "config = {\n",
    "    'alpha': None,\n",
    "    'gamma': gamma,\n",
    "    'epsilon': epsilon,\n",
    "    'action_table': action_table,\n",
    "    'd': observation_dimension,\n",
    "    't_max': 500,\n",
    "    'max_score': 500,\n",
    "    'episode_printer': 100,\n",
    "    'env': env,\n",
    "    'weights':None,\n",
    "    'q_hat': q_hat\n",
    "}\n",
    "\n"
   ],
   "outputs": [],
   "metadata": {}
  },
  {
   "cell_type": "code",
   "execution_count": 3,
   "source": [
    "# we want to determine the best alpha value\n",
    "# so iterate alpha\n",
    "# then train, then determine average score per alpha\n",
    "\n",
    "# function for saving weights to disk\n",
    "def save_weight(index, weights):\n",
    "    path = './train/sarsa/weights/'\n",
    "    file_name = 'weights_alpha' + str(index) + '.csv'\n",
    "    path += file_name\n",
    "    with open(path, 'w', encoding='UTF8', newline='') as f:\n",
    "        writer = csv.writer(f)\n",
    "\n",
    "        # write the header\n",
    "        # writer.writerow(np.array([alpha]))\n",
    "\n",
    "        # write multiple rows\n",
    "        writer.writerows(weights)"
   ],
   "outputs": [],
   "metadata": {}
  },
  {
   "cell_type": "code",
   "execution_count": 4,
   "source": [
    "# create alpha list\n",
    "alphas = np.arange(0.1,1,0.05)\n",
    "\n",
    "# testing trails\n",
    "trails = 100\n",
    "\n",
    "average_rewards = []\n",
    "\n",
    "# configure evaluation test\n",
    "base_dir = './'\n",
    "RENDER = False\n",
    "\n",
    "agent_rewards = np.zeros((trails,))\n",
    "\n",
    "# weight data store path\n",
    "path = './train/sarsa/weights_alpha.csv'"
   ],
   "outputs": [],
   "metadata": {}
  },
  {
   "cell_type": "code",
   "execution_count": 5,
   "source": [
    "# train for different alpha values\n",
    "for index, alpha in enumerate(alphas):\n",
    "    print('Training agent for alpha = {}'.format(alpha))\n",
    "\n",
    "    # set config file\n",
    "    config['alpha'] = alpha\n",
    "    config['epsilon'] = epsilon\n",
    "\n",
    "    # init agent\n",
    "    agent = SemiGradSarsa(config)\n",
    "\n",
    "    # train agent\n",
    "    agent.train(episodes=training_episodes)\n",
    "\n",
    "    # get trained weight value\n",
    "    weights = agent.w\n",
    "\n",
    "    # save weights\n",
    "    # TODO: use a thread for write operation\n",
    "    save_weight(index, weights)\n",
    "    # d = {str(alpha): weights}\n",
    "    # df = pd.DataFrame(d)\n",
    "    # df.to_csv(path, mode='a')\n",
    "\n",
    "    # determine average score per episode\n",
    "    eval_game = EvaluateGameSA(agent=agent, base_dir_path=base_dir, render=RENDER, env=env)\n",
    "    agent.epsilon = 0 # make greedy actions\n",
    "    for episode in range(trails):\n",
    "        reward = eval_game.evaluate_episode()\n",
    "        agent_rewards[episode] = reward\n",
    "    \n",
    "    # store average reward\n",
    "    average_rewards.append(np.mean(agent_rewards))\n",
    "\n",
    "average_rewards = np.array(average_rewards)\n",
    "\n",
    "    \n",
    "    "
   ],
   "outputs": [
    {
     "output_type": "stream",
     "name": "stdout",
     "text": [
      "Training agent for alpha = 0.1\n",
      "Training agent for alpha = 0.15000000000000002\n",
      "Training agent for alpha = 0.20000000000000004\n",
      "Training agent for alpha = 0.25000000000000006\n",
      "Training agent for alpha = 0.30000000000000004\n",
      "Training agent for alpha = 0.3500000000000001\n",
      "Training agent for alpha = 0.40000000000000013\n",
      "Training agent for alpha = 0.45000000000000007\n",
      "Training agent for alpha = 0.5000000000000001\n",
      "Training agent for alpha = 0.5500000000000002\n",
      "Training agent for alpha = 0.6000000000000002\n",
      "Training agent for alpha = 0.6500000000000001\n",
      "Training agent for alpha = 0.7000000000000002\n",
      "Training agent for alpha = 0.7500000000000002\n",
      "Training agent for alpha = 0.8000000000000002\n"
     ]
    },
    {
     "output_type": "stream",
     "name": "stderr",
     "text": [
      "/home/joker/dev/skrip/other/cartpole/../../alphaslime/agents/other/semiGradSarsa.py:134: RuntimeWarning: overflow encountered in multiply\n",
      "  self.alpha*beta*grad_q_hat.reshape((-1))\n",
      "/home/joker/dev/skrip/other/cartpole/../../alphaslime/agents/other/semiGradSarsa.py:164: RuntimeWarning: invalid value encountered in subtract\n",
      "  delta = (reward + self.gamma*q_hat_next - q_hat)\n"
     ]
    },
    {
     "output_type": "stream",
     "name": "stdout",
     "text": [
      "Training agent for alpha = 0.8500000000000002\n",
      "Training agent for alpha = 0.9000000000000002\n"
     ]
    },
    {
     "output_type": "stream",
     "name": "stderr",
     "text": [
      "/home/joker/dev/skrip/other/cartpole/../../alphaslime/agents/other/semiGradSarsa.py:166: RuntimeWarning: invalid value encountered in add\n",
      "  self.w[:, action_index] = self.w[:, action_index] + \\\n"
     ]
    },
    {
     "output_type": "stream",
     "name": "stdout",
     "text": [
      "Training agent for alpha = 0.9500000000000003\n"
     ]
    }
   ],
   "metadata": {}
  },
  {
   "cell_type": "code",
   "execution_count": 6,
   "source": [
    "# plot average reward per alpha\n",
    "plt.plot(alphas, average_rewards)\n",
    "plt.xlabel('alpha')\n",
    "plt.ylabel('average reward')\n",
    "plt.title('Average reward for varying alpha')\n",
    "plt.show()"
   ],
   "outputs": [
    {
     "output_type": "display_data",
     "data": {
      "text/plain": [
       "<Figure size 432x288 with 1 Axes>"
      ],
      "image/png": "[encoded data removed]"
     },
     "metadata": {
      "needs_background": "light"
     }
    }
   ],
   "metadata": {}
  },
  {
   "cell_type": "code",
   "execution_count": 7,
   "source": [
    "index_max = np.argmax(average_rewards)\n",
    "\n",
    "print('Optimal alpha value for gamma = {}: alpha = {}'.format(gamma, alphas[index_max]))"
   ],
   "outputs": [
    {
     "output_type": "stream",
     "name": "stdout",
     "text": [
      "Optimal alpha value for gamma = 0.95: alpha = 0.7500000000000002\n"
     ]
    }
   ],
   "metadata": {}
  },
  {
   "cell_type": "code",
   "execution_count": 8,
   "source": [
    "# gamma = 0.95, alpha = 0.35\n",
    "\n",
    "# train agent with these alpha values\n",
    "\n",
    "\n",
    "# change seed\n",
    "seed_old = seed\n",
    "seed = int(time.time())\n",
    "np.random.seed(seed)    \n",
    "env.seed(seed)\n",
    "\n",
    "# config['alpha'] = alphas[index_max]\n",
    "config['alpha'] = 0.95\n",
    "\n",
    "# create new agent\n",
    "optimal_agent = SemiGradSarsa(config)\n",
    "\n",
    "# train agent\n",
    "print('training')\n",
    "trained_agent = optimal_agent.train(training_episodes)\n",
    "print('training complete')\n",
    "\n",
    "weights = trained_agent.w\n",
    "epsilon = trained_agent.epsilon\n",
    "\n",
    "print('weights = {}'.format(weights))\n",
    "print('epsilon = {}'.format(epsilon))"
   ],
   "outputs": [
    {
     "output_type": "stream",
     "name": "stdout",
     "text": [
      "training\n"
     ]
    },
    {
     "output_type": "stream",
     "name": "stderr",
     "text": [
      "/home/joker/dev/skrip/other/cartpole/../../alphaslime/agents/other/semiGradSarsa.py:166: RuntimeWarning: overflow encountered in add\n",
      "  self.w[:, action_index] = self.w[:, action_index] + \\\n",
      "/home/joker/dev/skrip/other/cartpole/../../alphaslime/agents/other/semiGradSarsa.py:133: RuntimeWarning: invalid value encountered in add\n",
      "  self.w[:, action_index] = self.w[:, action_index] + \\\n"
     ]
    },
    {
     "output_type": "stream",
     "name": "stdout",
     "text": [
      "training complete\n",
      "weights = [[nan nan]\n",
      " [nan nan]\n",
      " [nan nan]\n",
      " [nan nan]\n",
      " [nan nan]]\n",
      "epsilon = 0.04971221948160023\n"
     ]
    }
   ],
   "metadata": {}
  },
  {
   "cell_type": "code",
   "execution_count": 9,
   "source": [
    "# now evaulate trained agent\n",
    "# determine average score per episode\n",
    "\n",
    "eval_game = EvaluateGameSA(agent=trained_agent, base_dir_path=base_dir, render=RENDER, env=env)\n",
    "trained_agent.epsilon = 0 # make greedy actions\n",
    "for episode in range(trails):\n",
    "    reward = eval_game.evaluate_episode()\n",
    "    agent_rewards[episode] = reward\n",
    "\n"
   ],
   "outputs": [],
   "metadata": {}
  },
  {
   "cell_type": "code",
   "execution_count": 10,
   "source": [
    "# store average reward\n",
    "average_reward = np.mean(agent_rewards)\n",
    "\n",
    "average_rewards = np.array(average_rewards)\n",
    "\n",
    "print('Average reward after {} trials is: {}'.format(trails, np.mean(average_rewards)))"
   ],
   "outputs": [
    {
     "output_type": "stream",
     "name": "stdout",
     "text": [
      "Average reward after 100 trials is: 16.627222222222226\n"
     ]
    }
   ],
   "metadata": {}
  },
  {
   "cell_type": "markdown",
   "source": [
    "# lets try a different approach"
   ],
   "metadata": {}
  },
  {
   "cell_type": "code",
   "execution_count": 11,
   "source": [
    "# we just want to see if we implemented the right code"
   ],
   "outputs": [],
   "metadata": {}
  },
  {
   "cell_type": "code",
   "execution_count": 12,
   "source": [
    "# links:"
   ],
   "outputs": [],
   "metadata": {}
  },
  {
   "cell_type": "markdown",
   "source": [
    "https://www.martinholub.com/eth/code/2018/07/14/ReinforcementLearning.html\n",
    "\n",
    "https://ikvibhav.medium.com/open-aigym-simple-sarsa-and-q-learning-reinforcement-learning-implementations-7d5ea6f1ff9"
   ],
   "metadata": {}
  },
  {
   "cell_type": "code",
   "execution_count": 13,
   "source": [
    "# from sources\n",
    "epsilon = 0.2\n",
    "gamma  = 0.95\n",
    "alpha = 0.1\n",
    "\n",
    "# q function approximator\n",
    "q_hat = LinearQApprox()\n",
    "env = gym.make('CartPole-v0')\n",
    "# set config file for agent\n",
    "config = {\n",
    "    'alpha': alpha,\n",
    "    'gamma': gamma,\n",
    "    'epsilon': epsilon,\n",
    "    'action_table': action_table,\n",
    "    'd': observation_dimension,\n",
    "    't_max': 200,\n",
    "    'max_score': 200,\n",
    "    'episode_printer': 100,\n",
    "    'env': env,\n",
    "    'weights':None,\n",
    "    'q_hat': q_hat\n",
    "}"
   ],
   "outputs": [],
   "metadata": {}
  },
  {
   "cell_type": "code",
   "execution_count": 14,
   "source": [
    "# init the agent\n",
    "agent = SemiGradSarsa(config)\n",
    "\n",
    "num_episodes = 1000\n",
    "# train the agent\n",
    "trained_agent = agent.train(num_episodes)\n",
    "\n",
    "# get training data\n",
    "training_data = np.array(trained_agent.train_data)\n",
    "\n"
   ],
   "outputs": [],
   "metadata": {}
  },
  {
   "cell_type": "code",
   "execution_count": 22,
   "source": [
    "# plot training data\n",
    "n, d = training_data.shape\n",
    "\n",
    "episodes = np.arange(n)\n",
    "# plot the training rewards \n",
    "plt.plot(episodes, training_data[:,0])\n",
    "plt.xlabel('Episodes')\n",
    "plt.ylabel('Rewards')\n",
    "plt.title('Training: rewards vs episodes')\n",
    "plt.show()\n"
   ],
   "outputs": [
    {
     "output_type": "display_data",
     "data": {
      "text/plain": [
       "<Figure size 432x288 with 1 Axes>"
      ],
      "image/png": "[encoded data removed]"
     },
     "metadata": {
      "needs_background": "light"
     }
    }
   ],
   "metadata": {}
  },
  {
   "cell_type": "code",
   "execution_count": 16,
   "source": [
    "eval_game = EvaluateGameSA(agent=trained_agent, base_dir_path=base_dir, render=RENDER, env=env)\n",
    "trained_agent.epsilon = 0 # make greedy actions\n",
    "for episode in range(trails):\n",
    "    reward = eval_game.evaluate_episode()\n",
    "    agent_rewards[episode] = reward\n",
    "\n",
    "# plot rewards per episode\n",
    "\n",
    "episodes = np.arange(trails)\n",
    "plt.plot(episodes, agent_rewards)\n",
    "plt.xlabel('Episode')\n",
    "plt.ylabel('Reward')\n",
    "plt.show()"
   ],
   "outputs": [
    {
     "output_type": "display_data",
     "data": {
      "text/plain": [
       "<Figure size 432x288 with 1 Axes>"
      ],
      "image/png": "[encoded data removed]"
     },
     "metadata": {
      "needs_background": "light"
     }
    }
   ],
   "metadata": {}
  }
 ],
 "metadata": {
  "orig_nbformat": 4,
  "language_info": {
   "name": "python",
   "version": "3.8.10",
   "mimetype": "text/x-python",
   "codemirror_mode": {
    "name": "ipython",
    "version": 3
   },
   "pygments_lexer": "ipython3",
   "nbconvert_exporter": "python",
   "file_extension": ".py"
  },
  "kernelspec": {
   "name": "python3",
   "display_name": "Python 3.8.10 64-bit ('venv': venv)"
  },
  "interpreter": {
   "hash": "f41a9e18d32d699c7ebd9346171aa8606b8eaf6d2e7d29caa03f22c5e982b824"
  }
 },
 "nbformat": 4,
 "nbformat_minor": 2
}