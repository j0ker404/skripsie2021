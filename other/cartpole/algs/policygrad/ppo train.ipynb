{
 "cells": [
  {
   "cell_type": "code",
   "execution_count": null,
   "source": [
    "import sys\n",
    "import os\n",
    "\n",
    "PACKAGE_PARENT = '../../../../'\n",
    "sys.path.append(PACKAGE_PARENT)\n",
    "\n",
    "from alphaslime.agents.RL.policygrad.torch.ppo import PPOAgent\n",
    "from alphaslime.trainer.trainerSA import TrainerSA as Trainer\n",
    "import ppo_training_configs as PPOCONFIGS\n",
    "\n",
    "import numpy as np\n",
    "import pandas as pd\n",
    "import matplotlib.pyplot as plt\n"
   ],
   "outputs": [],
   "metadata": {}
  },
  {
   "cell_type": "code",
   "execution_count": null,
   "source": [
    "# create required directories if not present\n",
    "PPOCONFIGS.create_dirs()"
   ],
   "outputs": [],
   "metadata": {}
  },
  {
   "cell_type": "code",
   "execution_count": null,
   "source": [
    "# load configurations\n",
    "CONST = PPOCONFIGS.CONST\n",
    "agent_config = PPOCONFIGS.agent_hyper\n",
    "env = PPOCONFIGS.env\n",
    "agent_training_configs = PPOCONFIGS.agent_training_configs\n",
    "figure_file = PPOCONFIGS.figure_file"
   ],
   "outputs": [],
   "metadata": {}
  },
  {
   "cell_type": "code",
   "execution_count": null,
   "source": [
    "from alphaslime.trainer.datahelp.pg_agents import PGLearnFile\n",
    "\n",
    "filenamer = PGLearnFile()\n",
    "\n",
    "trainer = Trainer(CONSTANTS=CONST)\n",
    "\n",
    "filenames = trainer.train(training_config=agent_training_configs, agent_config=agent_config, fileNamer=filenamer)\n",
    "\n",
    "print(filenames)"
   ],
   "outputs": [],
   "metadata": {}
  },
  {
   "cell_type": "code",
   "execution_count": null,
   "source": [
    "import pickle\n",
    "# load training data\n",
    "temp = 'PPO_data/gamma_0.99_alpha_0.0003_reward_483.0_data.pkl'\n",
    "temp = filenames [1]\n",
    "training_data_path = temp\n",
    "print(training_data_path)\n",
    "with open(training_data_path, 'rb') as f:\n",
    "    training_data = pickle.load(f)"
   ],
   "outputs": [],
   "metadata": {}
  },
  {
   "cell_type": "code",
   "execution_count": null,
   "source": [
    "import alphaslime.utils.ploty as ploty\n",
    "figure_file = PPOCONFIGS.base_plot_path + 'avg_rew_cartpolev1_ppo.png'\n",
    "rewards = training_data['rewards']\n",
    "title = 'PPO Training Rewards and Average Reward on Cartpole'\n",
    "x = [i for i in range(len(rewards))]\n",
    "rn_avg_len = PPOCONFIGS.running_avg_len\n",
    "ploty.plot_learning_curve_plus_score(x,rewards, figure_file, running_avg_len=rn_avg_len, title=title)"
   ],
   "outputs": [],
   "metadata": {}
  }
 ],
 "metadata": {
  "orig_nbformat": 4,
  "language_info": {
   "name": "python",
   "version": "3.8.10",
   "mimetype": "text/x-python",
   "codemirror_mode": {
    "name": "ipython",
    "version": 3
   },
   "pygments_lexer": "ipython3",
   "nbconvert_exporter": "python",
   "file_extension": ".py"
  },
  "kernelspec": {
   "name": "python3",
   "display_name": "Python 3.8.10 64-bit ('venv': venv)"
  },
  "interpreter": {
   "hash": "f41a9e18d32d699c7ebd9346171aa8606b8eaf6d2e7d29caa03f22c5e982b824"
  }
 },
 "nbformat": 4,
 "nbformat_minor": 2
}