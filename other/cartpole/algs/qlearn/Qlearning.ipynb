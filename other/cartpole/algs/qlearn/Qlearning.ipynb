{
 "cells": [
  {
   "cell_type": "code",
   "execution_count": null,
   "source": [
    "import gym\n",
    "import numpy as np\n",
    "import time, pickle, os\n",
    "import pandas as pd\n",
    "from matplotlib import pyplot\n",
    "\n",
    "env = gym.make('FrozenLake-v1')\n",
    "\n",
    "epsilon = 0.9\n",
    "min_epsilon = 0.1\n",
    "max_epsilon = 1.0\n",
    "decay_rate = 0.001\n",
    "\n",
    "total_episodes = 20000\n",
    "max_steps = 100\n",
    "\n",
    "lr_rates = [0.048] # np.arange(0.045,0.055, 0.001)\n",
    "gammas = [0.9850] # np.arange(0.985, 0.986, 0.001)"
   ],
   "outputs": [],
   "metadata": {}
  },
  {
   "cell_type": "code",
   "execution_count": null,
   "source": [
    "def choose_action(state):\n",
    "    action = 0\n",
    "    if np.random.uniform(0,1) < epsilon:\n",
    "        action = env.action_space.sample()\n",
    "    else:\n",
    "        action = np.argmax(Q[state,:])\n",
    "    return action"
   ],
   "outputs": [],
   "metadata": {}
  },
  {
   "cell_type": "code",
   "execution_count": null,
   "source": [
    "def learn(state, state2, reward, action):\n",
    "    predict = Q[state, action]\n",
    "    target = reward + gamma * np.max(Q[state2, :])\n",
    "    Q[state, action] = Q[state, action] + lr_rate* (target - predict)"
   ],
   "outputs": [],
   "metadata": {}
  },
  {
   "cell_type": "code",
   "execution_count": null,
   "source": [
    "# Start\n",
    "\n",
    "rewards = np.zeros((len(gammas), len(lr_rates), total_episodes))\n",
    "\n",
    "for gamma_index in np.arange(0,len(gammas)):\n",
    "    gamma = gammas[gamma_index]\n",
    "    for lr_index in np.arange(0,len(lr_rates)):\n",
    "        lr_rate = lr_rates[lr_index]\n",
    "        \n",
    "        print(\"Learning rate: %0.4f and Discount factor gamma: %0.4f\" % (lr_rate, gamma))\n",
    "        Q = np.zeros((env.observation_space.n, env.action_space.n))\n",
    "        \n",
    "        for episode in range(total_episodes):\n",
    "            episode_reward = 0\n",
    "            state = env.reset()\n",
    "            t = 0\n",
    "\n",
    "            while (t < max_steps):\n",
    "                #env.render()\n",
    "                action = choose_action(state)\n",
    "                state2, reward, done, info = env.step(action)\n",
    "                learn(state, state2, reward, action)\n",
    "\n",
    "                state = state2\n",
    "\n",
    "                t += 1\n",
    "                episode_reward += reward\n",
    "\n",
    "                if done:\n",
    "                    break\n",
    "            epsilon = min_epsilon + (max_epsilon - min_epsilon)*np.exp(-decay_rate*episode)   \n",
    "                #time.sleep(0.1)\n",
    "            # print(\"Episode %d with reward %f\" % (episode, episode_reward))\n",
    "            rewards[gamma_index,lr_index,episode] = episode_reward\n",
    "            \n",
    "        total_rewards = np.sum(rewards[gamma_index,lr_index,:])\n",
    "        print(\"Score over time: \", total_rewards/total_episodes)\n",
    "        average_reward = total_rewards/total_episodes\n",
    "        with open(\"frozenLake_qTable_gamma_%0.4f_lr_rate_%0.4f_reward_%0.4f.pkl\" % (gamma,lr_rate,average_reward), 'wb') as f:\n",
    "            pickle.dump(Q, f)\n",
    "            \n",
    "with open(\"frozenLake_qTable_rewards.pkl\",'wb') as f:\n",
    "    pickle.dump(rewards, f)"
   ],
   "outputs": [],
   "metadata": {}
  },
  {
   "cell_type": "code",
   "execution_count": null,
   "source": [
    "# %matplotlib notebook\n",
    "\n",
    "d = pd.Series(rewards[0,0,:])\n",
    "pyplot.plot(np.arange(0,total_episodes),d.rolling(100).mean())\n",
    "pyplot.show()"
   ],
   "outputs": [],
   "metadata": {}
  },
  {
   "cell_type": "code",
   "execution_count": null,
   "source": [
    "rewards"
   ],
   "outputs": [],
   "metadata": {}
  },
  {
   "cell_type": "code",
   "execution_count": null,
   "source": [],
   "outputs": [],
   "metadata": {}
  }
 ],
 "metadata": {
  "kernelspec": {
   "name": "python3",
   "display_name": "Python 3.8.10 64-bit ('venv': venv)"
  },
  "language_info": {
   "codemirror_mode": {
    "name": "ipython",
    "version": 3
   },
   "file_extension": ".py",
   "mimetype": "text/x-python",
   "name": "python",
   "nbconvert_exporter": "python",
   "pygments_lexer": "ipython3",
   "version": "3.8.10"
  },
  "interpreter": {
   "hash": "f41a9e18d32d699c7ebd9346171aa8606b8eaf6d2e7d29caa03f22c5e982b824"
  }
 },
 "nbformat": 4,
 "nbformat_minor": 1
}