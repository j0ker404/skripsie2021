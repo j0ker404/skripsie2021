{
 "cells": [
  {
   "cell_type": "code",
   "execution_count": 1,
   "source": [
    "# https://github.com/ceteke/RL/blob/master/Approximation/Linear%20Sarsa.ipynb\n"
   ],
   "outputs": [],
   "metadata": {}
  },
  {
   "cell_type": "code",
   "execution_count": 2,
   "source": [
    "import autograd.numpy as np\n",
    "import gym\n",
    "import matplotlib.pyplot as plt\n",
    "from autograd import grad, elementwise_grad\n",
    "import random\n",
    "from IPython import display\n"
   ],
   "outputs": [],
   "metadata": {}
  },
  {
   "cell_type": "code",
   "execution_count": 3,
   "source": [
    "# Linear approximation function to expected returns\n",
    "def approx(weights, state, action):\n",
    "    return np.dot(state, weights)[action]\n",
    "\n",
    "\n",
    "def policy(env, weights, state, epsilon):\n",
    "    actions = [0, 1]\n",
    "    if np.random.rand() < epsilon:\n",
    "        return random.choice(actions)\n",
    "    qs = []\n",
    "    for action in actions:\n",
    "        qs.append(approx(weights, state, action))\n",
    "    return np.argmax(qs)\n",
    "\n",
    "\n",
    "dapprox = grad(approx)\n",
    "episodes = 50000\n",
    "discount = 0.95\n",
    "epsilon = 0.2\n",
    "# epsilon = 1\n",
    "alpha = 0.1\n"
   ],
   "outputs": [],
   "metadata": {}
  },
  {
   "cell_type": "code",
   "execution_count": 4,
   "source": [
    "\n",
    "env = gym.make('CartPole-v0')\n",
    "seed = 42\n",
    "# seed = int(time.time()) #1630937434\n",
    "np.random.seed(seed)    \n",
    "env.seed(seed)\n",
    "\n",
    "episode_rewards = []\n",
    "w = np.zeros((4, 2))\n",
    "for e in range(episodes):\n",
    "    state = env.reset()\n",
    "    rewards = []\n",
    "    while True:\n",
    "        action = policy(env, w, state, epsilon)\n",
    "        q_hat = approx(w, state, action)\n",
    "        q_hat_grad = dapprox(w, state, action)\n",
    "        # print('q_hat = {}'.format(q_hat))\n",
    "        # print('q_hat_grad = \\n{}'.format(q_hat_grad))\n",
    "        next_state, reward, done, _ = env.step(action)\n",
    "        rewards.append(reward)\n",
    "        if done:\n",
    "            w += alpha*(reward - q_hat) * q_hat_grad\n",
    "            break\n",
    "        else:\n",
    "            next_action = policy(env, w, next_state, epsilon)\n",
    "            q_hat_next = approx(w, next_state, next_action)\n",
    "            w += alpha*(reward + discount*q_hat_next - q_hat)*q_hat_grad\n",
    "            state = next_state\n",
    "    if e == 100:\n",
    "        epsilon /= 2\n",
    "    episode_rewards.append(np.sum(rewards))\n"
   ],
   "outputs": [],
   "metadata": {}
  },
  {
   "cell_type": "code",
   "execution_count": 5,
   "source": [
    "\n",
    "for i, r in enumerate(episode_rewards):\n",
    "    if i + 100 >= len(episode_rewards):\n",
    "        break\n",
    "    else:\n",
    "        mean = np.mean(episode_rewards[i:i+100])\n",
    "        if mean >= 195:\n",
    "            print(\"Episodes before solve\", i+1)\n",
    "            break\n"
   ],
   "outputs": [],
   "metadata": {}
  },
  {
   "cell_type": "code",
   "execution_count": 8,
   "source": [
    "plt.plot(episode_rewards)\n",
    "plt.xlabel('Episodes')\n",
    "plt.ylabel('Rewards')\n",
    "plt.title('Training: rewards vs episodes')\n",
    "plt.show()\n"
   ],
   "outputs": [
    {
     "output_type": "display_data",
     "data": {
      "text/plain": [
       "<Figure size 432x288 with 1 Axes>"
      ],
      "image/png": "[encoded data removed]"
     },
     "metadata": {
      "needs_background": "light"
     }
    }
   ],
   "metadata": {}
  },
  {
   "cell_type": "code",
   "execution_count": 7,
   "source": [
    "def show_state(env, step=0):\n",
    "    plt.figure(3)\n",
    "    plt.clf()\n",
    "    plt.imshow(env.render(mode='rgb_array'))\n",
    "    plt.title(\"Step: %d\" % (step))\n",
    "\n",
    "    plt.pause(0.001)  # pause for plots to update\n",
    "\n",
    "    display.clear_output(wait=True)\n",
    "    display.display(plt.gcf())\n",
    "\n",
    "# done = False\n",
    "# state = env.reset()\n",
    "# step = 0\n",
    "# while not done:\n",
    "#     step += 1\n",
    "#     show_state(env, step)\n",
    "#     action = policy(env, w, state, 0.0)\n",
    "#     state, _, done, _ = env.step(action)\n"
   ],
   "outputs": [],
   "metadata": {}
  },
  {
   "cell_type": "code",
   "execution_count": null,
   "source": [
    "\n"
   ],
   "outputs": [],
   "metadata": {}
  }
 ],
 "metadata": {
  "orig_nbformat": 4,
  "language_info": {
   "name": "python",
   "version": "3.8.10",
   "mimetype": "text/x-python",
   "codemirror_mode": {
    "name": "ipython",
    "version": 3
   },
   "pygments_lexer": "ipython3",
   "nbconvert_exporter": "python",
   "file_extension": ".py"
  },
  "kernelspec": {
   "name": "python3",
   "display_name": "Python 3.8.10 64-bit ('venv': venv)"
  },
  "interpreter": {
   "hash": "f41a9e18d32d699c7ebd9346171aa8606b8eaf6d2e7d29caa03f22c5e982b824"
  }
 },
 "nbformat": 4,
 "nbformat_minor": 2
}