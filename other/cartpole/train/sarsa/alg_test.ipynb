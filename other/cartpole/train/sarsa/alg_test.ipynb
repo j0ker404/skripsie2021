{
 "cells": [
  {
   "cell_type": "code",
   "execution_count": 21,
   "source": [
    "import sys\n",
    "\n",
    "\n",
    "PACKAGE_PARENT = '../../../../'\n",
    "sys.path.append(PACKAGE_PARENT)\n",
    "\n",
    "from alphaslime.evaluate.eval_agents import EvaluateGameSA\n",
    "from alphaslime.agents.other.semiGradSarsa import SemiGradSarsa\n",
    "from alphaslime.approx.linearq import LinearQApprox\n",
    "\n",
    "from pandas import read_csv\n",
    "import numpy as np\n",
    "import pandas as pd\n",
    "import matplotlib.pyplot as plt\n",
    "\n",
    "import gym\n",
    "import csv\n",
    "\n",
    "import time"
   ],
   "outputs": [],
   "metadata": {}
  },
  {
   "cell_type": "code",
   "execution_count": 22,
   "source": [
    "# config intial properties\n",
    "\n",
    "# env_id = 'CartPole-v0'\n",
    "# env = gym.make(env_id)\n",
    "# # seed the random numbers and the gym environment\n",
    "# seed = 42\n",
    "# # seed = int(time.time()) #1630937434\n",
    "# np.random.seed(seed)    \n",
    "# env.seed(seed)\n",
    "\n",
    "# agent properties\n",
    "# from sources\n",
    "'''\n",
    "https://www.martinholub.com/eth/code/2018/07/14/ReinforcementLearning.html\n",
    "\n",
    "https://ikvibhav.medium.com/open-aigym-simple-sarsa-and-q-learning-reinforcement-learning-implementations-7d5ea6f1ff9\n",
    "'''\n",
    "epsilon = 0.2\n",
    "gamma  = 0.95\n",
    "alpha = 0.2\n",
    "\n",
    "training_episodes = 1000\n",
    "observation_dimension=4\n",
    "action_table = [0, 1]\n",
    "\n",
    "# epsilon = 1\n",
    "\n",
    "env = gym.make('CartPole-v1')\n",
    "\n",
    "# env = gym.make('MountainCar-v0')\n",
    "# epsilon = 0\n",
    "# gamma  = 1\n",
    "# alpha = 0.0625\n",
    "# observation_dimension=2\n",
    "# training_episodes = 200\n",
    "# action_table = [0, 1, 2]\n",
    "\n",
    "# q function approximator\n",
    "q_hat = LinearQApprox(action_table=action_table)\n",
    "# set config file for agent\n",
    "config = {\n",
    "    'alpha': alpha,\n",
    "    'gamma': gamma,\n",
    "    'epsilon': epsilon,\n",
    "    'action_table': action_table,\n",
    "    'd': observation_dimension,\n",
    "    't_max': 200,\n",
    "    'max_score': None,\n",
    "    'episode_printer': 100,\n",
    "    'env': env,\n",
    "    'weights':None,\n",
    "    'q_hat': q_hat\n",
    "}\n",
    "\n"
   ],
   "outputs": [],
   "metadata": {}
  },
  {
   "cell_type": "code",
   "execution_count": 23,
   "source": [
    "# init the agent\n",
    "agent = SemiGradSarsa(config)\n",
    "# agent.EPSILON_DECAY_BASE = 0.99\n",
    "agent.MINIMUM_EPSILON = 0.2\n",
    "agent.EPSILON_DECAY_STATE = False\n",
    "\n",
    "num_episodes = training_episodes\n",
    "# train the agent\n",
    "trained_agent = agent.train(num_episodes)\n",
    "\n",
    "# get training data\n",
    "training_data = np.array(trained_agent.train_data)"
   ],
   "outputs": [],
   "metadata": {}
  },
  {
   "cell_type": "code",
   "execution_count": 24,
   "source": [
    "# plot training data\n",
    "n, d = training_data.shape\n",
    "\n",
    "episodes = np.arange(n)\n",
    "# plot the training rewards \n",
    "plt.plot(episodes, training_data[:,0])\n",
    "# print(training_data)\n",
    "# plt.plot(training_data[:,1])\n",
    "plt.xlabel('Episodes')\n",
    "plt.ylabel('Rewards')\n",
    "plt.title('Training: rewards vs episodes')\n",
    "plt.show()\n",
    "\n",
    "print(trained_agent.w)\n"
   ],
   "outputs": [
    {
     "output_type": "display_data",
     "data": {
      "text/plain": [
       "<Figure size 432x288 with 1 Axes>"
      ],
      "image/png": "[encoded data removed]"
     },
     "metadata": {
      "needs_background": "light"
     }
    },
    {
     "output_type": "stream",
     "name": "stdout",
     "text": [
      "[[   2.94348693]\n",
      " [-809.77077275]\n",
      " [-155.78769978]\n",
      " [ 652.47497026]\n",
      " [  32.03873   ]\n",
      " [-611.01696723]\n",
      " [ -95.86112279]\n",
      " [ 732.18921832]\n",
      " [ 300.14574699]]\n"
     ]
    }
   ],
   "metadata": {}
  },
  {
   "cell_type": "code",
   "execution_count": 25,
   "source": [
    "x = np.array([\n",
    "    [1],\n",
    "    [1],\n",
    "    [1]\n",
    "])\n",
    "\n",
    "w = np.array([\n",
    "    [1,2,4],\n",
    "    [1,2,4],\n",
    "    [1,2,4],\n",
    "])\n",
    "\n",
    "\n",
    "print('x = {}'.format(x.shape))\n",
    "print('w = {}'.format(w.shape))\n",
    "\n",
    "\n",
    "print(np.dot(w, x))"
   ],
   "outputs": [
    {
     "output_type": "stream",
     "name": "stdout",
     "text": [
      "x = (3, 1)\n",
      "w = (3, 3)\n",
      "[[7]\n",
      " [7]\n",
      " [7]]\n"
     ]
    }
   ],
   "metadata": {}
  }
 ],
 "metadata": {
  "orig_nbformat": 4,
  "language_info": {
   "name": "python",
   "version": "3.8.10",
   "mimetype": "text/x-python",
   "codemirror_mode": {
    "name": "ipython",
    "version": 3
   },
   "pygments_lexer": "ipython3",
   "nbconvert_exporter": "python",
   "file_extension": ".py"
  },
  "kernelspec": {
   "name": "python3",
   "display_name": "Python 3.8.10 64-bit ('venv': venv)"
  },
  "interpreter": {
   "hash": "f41a9e18d32d699c7ebd9346171aa8606b8eaf6d2e7d29caa03f22c5e982b824"
  }
 },
 "nbformat": 4,
 "nbformat_minor": 2
}