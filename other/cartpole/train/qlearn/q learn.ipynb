{
 "cells": [
  {
   "cell_type": "code",
   "execution_count": 5,
   "source": [
    "import numpy as np\n",
    "import gym\n",
    "import matplotlib.pyplot as plt\n"
   ],
   "outputs": [],
   "metadata": {}
  },
  {
   "cell_type": "code",
   "execution_count": 6,
   "source": [
    "# https://medium.com/analytics-vidhya/q-learning-is-the-most-basic-form-of-reinforcement-learning-which-doesnt-take-advantage-of-any-8944e02570c5\n",
    "\n",
    "def Qtable(state_space, action_space, bin_size=30):\n",
    "\n",
    "    bins = [np.linspace(-4.8, 4.8, bin_size),\n",
    "            np.linspace(-4, 4, bin_size),\n",
    "            np.linspace(-0.418, 0.418, bin_size),\n",
    "            np.linspace(-4, 4, bin_size)]\n",
    "\n",
    "    q_table = np.random.uniform(\n",
    "        low=-1, high=1, size=([bin_size] * state_space + [action_space]))\n",
    "    return q_table, bins\n",
    "\n",
    "\n",
    "def Discrete(state, bins):\n",
    "    index = []\n",
    "    for i in range(len(state)): index.append(\n",
    "        np.digitize(state[i], bins[i]) - 1)\n",
    "    return tuple(index)\n",
    "\n",
    "\n",
    "def Q_learning(q_table, bins, episodes=5000, gamma=0.95, lr=0.1, timestep=100, epsilon=0.2, DECAY=True, base = 0.9):\n",
    "    rewards = []\n",
    "    steps = 0\n",
    "    # for episode in range(1, episodes+1):\n",
    "    for episode in range(0, episodes):\n",
    "        steps += 1\n",
    "        # env.reset() => initial observation\n",
    "        current_state = Discrete(env.reset(), bins)\n",
    "\n",
    "        score = 0\n",
    "        done = False\n",
    "        while not done:\n",
    "            # if episode % timestep == 0: env.render()\n",
    "            if np.random.uniform(0, 1) < epsilon:\n",
    "                    action = env.action_space.sample()\n",
    "            else:\n",
    "                    action = np.argmax(q_table[current_state])\n",
    "            observation, reward, done, info = env.step(action)\n",
    "            next_state = Discrete(observation,bins)\n",
    "            score+=reward\n",
    "            \n",
    "            if not done:\n",
    "                    max_future_q = np.max(q_table[next_state])\n",
    "                    current_q = q_table[current_state+(action,)]\n",
    "                    new_q = (1-lr)*current_q + lr*(reward + gamma*max_future_q)\n",
    "                    q_table[current_state+(action,)] = new_q\n",
    "            current_state = next_state\n",
    "        \n",
    "        if DECAY:\n",
    "            epsilon = np.power(base, episode)\n",
    "        # End of the loop update\n",
    "        rewards.append(score)\n",
    "        # else:\n",
    "        #     rewards.append(score)\n",
    "        #     if score > 195 and steps >= 100: print('Solved')\n",
    "        # if episode % timestep == 0: print(reward / timestep)\n",
    "    \n",
    "    return np.array(rewards)\n",
    "     "
   ],
   "outputs": [],
   "metadata": {}
  },
  {
   "cell_type": "code",
   "execution_count": 7,
   "source": [
    "state_space = 4 # number of states\n",
    "action_space = 2 # number of possible actions\n",
    "env = gym.make('CartPole-v0')\n",
    "seed = 42\n",
    "# seed = int(time.time()) #1630937434\n",
    "np.random.seed(seed)    \n",
    "env.seed(seed)\n",
    "\n",
    "q_table, bins = Qtable(state_space, action_space)\n",
    "rewards = Q_learning(q_table, bins, episodes=10000, epsilon=1)\n",
    "\n"
   ],
   "outputs": [],
   "metadata": {}
  },
  {
   "cell_type": "code",
   "execution_count": 9,
   "source": [
    "plt.plot(rewards)\n",
    "plt.xlabel('Episodes')\n",
    "plt.ylabel('Rewards')\n",
    "plt.title('Training: rewards vs episodes')\n",
    "plt.show()\n",
    "\n",
    "print(q_table.shape)"
   ],
   "outputs": [
    {
     "output_type": "display_data",
     "data": {
      "text/plain": [
       "<Figure size 432x288 with 1 Axes>"
      ],
      "image/png": "[encoded data removed]"
     },
     "metadata": {
      "needs_background": "light"
     }
    },
    {
     "output_type": "stream",
     "name": "stdout",
     "text": [
      "(30, 30, 30, 30, 2)\n"
     ]
    }
   ],
   "metadata": {}
  }
 ],
 "metadata": {
  "orig_nbformat": 4,
  "language_info": {
   "name": "python",
   "version": "3.8.10",
   "mimetype": "text/x-python",
   "codemirror_mode": {
    "name": "ipython",
    "version": 3
   },
   "pygments_lexer": "ipython3",
   "nbconvert_exporter": "python",
   "file_extension": ".py"
  },
  "kernelspec": {
   "name": "python3",
   "display_name": "Python 3.8.10 64-bit ('venv': venv)"
  },
  "interpreter": {
   "hash": "f41a9e18d32d699c7ebd9346171aa8606b8eaf6d2e7d29caa03f22c5e982b824"
  }
 },
 "nbformat": 4,
 "nbformat_minor": 2
}